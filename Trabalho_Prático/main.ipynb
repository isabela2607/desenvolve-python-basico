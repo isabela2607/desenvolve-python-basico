{
 "cells": [
  {
   "cell_type": "code",
   "execution_count": null,
   "id": "3e2f598f-88d1-40d6-8b87-de0cc646926d",
   "metadata": {},
   "outputs": [
    {
     "name": "stdout",
     "output_type": "stream",
     "text": [
      "Tentando carregar dados do arquivo: C:\\Users\\Administrador\\OneDrive\\GitHub\\Trabalho_prático\\Pasta scripts\\usuarios.csv\n",
      "Dados carregados de usuarios.csv: [{'id': '1', 'nome': 'Isabela', 'senha': 'ger123', 'permissao': 'gerente'}, {'id': '2', 'nome': 'Maria', 'senha': 'senha123', 'permissao': 'funcionario'}, {'id': '3', 'nome': 'Pedro', 'senha': 'senha456', 'permissao': 'funcionario'}, {'id': '4', 'nome': 'Helena', 'senha': 'senha789', 'permissao': 'funcionario'}]\n",
      "Tentando carregar dados do arquivo: C:\\Users\\Administrador\\OneDrive\\GitHub\\Trabalho_prático\\Pasta scripts\\produtos.csv\n",
      "Dados carregados de produtos.csv: [{'id': '1', 'nome': 'Tortinha-morango', 'preco': '15.00', 'quantidade': '10'}, {'id': '2', 'nome': 'Brigadeiro', 'preco': '1.50', 'quantidade': '50'}, {'id': '3', 'nome': 'Pote-da-felicidade', 'preco': '10.00', 'quantidade': '3'}, {'id': '4', 'nome': 'Chup-chup', 'preco': '4.00', 'quantidade': '30'}, {'id': '5', 'nome': 'Cocada', 'preco': '3.50', 'quantidade': '4'}]\n"
     ]
    },
    {
     "name": "stdin",
     "output_type": "stream",
     "text": [
      "Nome:  Helena\n",
      "Senha:  senha789\n"
     ]
    },
    {
     "name": "stdout",
     "output_type": "stream",
     "text": [
      "Verificando usuário: {'id': '1', 'nome': 'Isabela', 'senha': 'ger123', 'permissao': 'gerente'}\n",
      "Verificando usuário: {'id': '2', 'nome': 'Maria', 'senha': 'senha123', 'permissao': 'funcionario'}\n",
      "Verificando usuário: {'id': '3', 'nome': 'Pedro', 'senha': 'senha456', 'permissao': 'funcionario'}\n",
      "Verificando usuário: {'id': '4', 'nome': 'Helena', 'senha': 'senha789', 'permissao': 'funcionario'}\n",
      "Usuário Helena autenticado com sucesso!\n",
      "Bem-vindo, Helena!\n",
      "\n",
      "Menu:\n",
      "1. CRUD de Usuários\n",
      "2. CRUD de Produtos\n",
      "3. Sair\n"
     ]
    },
    {
     "name": "stdin",
     "output_type": "stream",
     "text": [
      "Escolha uma opção:  2\n"
     ]
    },
    {
     "name": "stdout",
     "output_type": "stream",
     "text": [
      "\n",
      "CRUD de Produtos:\n",
      "1. Criar\n",
      "2. Ler\n",
      "3. Atualizar\n",
      "4. Deletar\n"
     ]
    },
    {
     "name": "stdin",
     "output_type": "stream",
     "text": [
      "Escolha uma operação:  1\n",
      "ID:  5\n",
      "Nome:  Pirulito\n",
      "Preço:  0.50\n",
      "Quantidade:  50\n"
     ]
    },
    {
     "name": "stdout",
     "output_type": "stream",
     "text": [
      "\n",
      "Menu:\n",
      "1. CRUD de Usuários\n",
      "2. CRUD de Produtos\n",
      "3. Sair\n"
     ]
    },
    {
     "name": "stdin",
     "output_type": "stream",
     "text": [
      "Escolha uma opção:  2\n"
     ]
    },
    {
     "name": "stdout",
     "output_type": "stream",
     "text": [
      "\n",
      "CRUD de Produtos:\n",
      "1. Criar\n",
      "2. Ler\n",
      "3. Atualizar\n",
      "4. Deletar\n"
     ]
    },
    {
     "name": "stdin",
     "output_type": "stream",
     "text": [
      "Escolha uma operação:  2\n"
     ]
    },
    {
     "name": "stdout",
     "output_type": "stream",
     "text": [
      "{'id': '1', 'nome': 'Tortinha-morango', 'preco': '15.00', 'quantidade': '10'}\n",
      "{'id': '2', 'nome': 'Brigadeiro', 'preco': '1.50', 'quantidade': '50'}\n",
      "{'id': '3', 'nome': 'Pote-da-felicidade', 'preco': '10.00', 'quantidade': '3'}\n",
      "{'id': '4', 'nome': 'Chup-chup', 'preco': '4.00', 'quantidade': '30'}\n",
      "{'id': '5', 'nome': 'Cocada', 'preco': '3.50', 'quantidade': '4'}\n",
      "{'id': '5', 'nome': 'Pirulito', 'preco': '0.50', 'quantidade': '50'}\n",
      "\n",
      "Menu:\n",
      "1. CRUD de Usuários\n",
      "2. CRUD de Produtos\n",
      "3. Sair\n"
     ]
    },
    {
     "name": "stdin",
     "output_type": "stream",
     "text": [
      "Escolha uma opção:  2\n"
     ]
    },
    {
     "name": "stdout",
     "output_type": "stream",
     "text": [
      "\n",
      "CRUD de Produtos:\n",
      "1. Criar\n",
      "2. Ler\n",
      "3. Atualizar\n",
      "4. Deletar\n"
     ]
    },
    {
     "name": "stdin",
     "output_type": "stream",
     "text": [
      "Escolha uma operação:  4\n",
      "ID do produto a ser deletado:  5\n"
     ]
    },
    {
     "name": "stdout",
     "output_type": "stream",
     "text": [
      "\n",
      "Menu:\n",
      "1. CRUD de Usuários\n",
      "2. CRUD de Produtos\n",
      "3. Sair\n"
     ]
    }
   ],
   "source": [
    "# importando csv\n",
    "import os\n",
    "import csv\n",
    "\n",
    "# Função customizada para carregar dados dos \"arquivos CSV\"\n",
    "\n",
    "def carregar_dados(arquivo):\n",
    "    dados = []\n",
    "    caminho_absoluto = os.path.abspath(arquivo)\n",
    "    print(f\"Tentando carregar dados do arquivo: {caminho_absoluto}\")\n",
    "    \n",
    " # Verifica se o arquivo existe  \n",
    "    \n",
    "    if not os.path.exists(caminho_absoluto):\n",
    "        print(f\"O arquivo {arquivo} não foi encontrado.\")\n",
    "        return dados\n",
    "        \n",
    " # Lê o arquivo  \n",
    "    \n",
    "    with open(arquivo, mode='r', encoding='utf-8') as file:\n",
    "        reader = csv.DictReader(file)\n",
    "        for row in reader:\n",
    "            dados.append(row)\n",
    "    print(f\"Dados carregados de {arquivo}: {dados}\")\n",
    "\n",
    " #Imprime e retorna a lista \"dados\"\n",
    "    return dados\n",
    "    \n",
    " #Esta função abre os arquivos csv em modo de escrita, com new line vasios, ao final escreve todas as linhas de dados no arquivo.\n",
    "\n",
    "def salvar_dados(arquivo, dados, campos):\n",
    "    with open(arquivo, mode='w', newline='', encoding='utf-8') as file:\n",
    "        writer = csv.DictWriter(file, fieldnames=campos)\n",
    "        writer.writeheader()\n",
    "        writer.writerows(dados)\n",
    "        \n",
    " #CRUD para usuários\n",
    " #Função de criar usuários\n",
    "\n",
    "def criar_usuario(usuarios):\n",
    "    id = input(\"ID: \")\n",
    "    nome = input(\"Nome: \")\n",
    "    senha = input(\"Senha: \")\n",
    "    permissao = input(\"Permissão (gerente/funcionario): \")\n",
    "    usuarios.append({\"id\": id, \"nome\": nome, \"senha\": senha, \"permissao\": permissao})\n",
    "    salvar_dados('usuarios.csv', usuarios, [\"id\", \"nome\", \"senha\", \"permissao\"])\n",
    "    \n",
    " #Função de ler e imprimir usuários\n",
    "\n",
    "def ler_usuarios(usuarios):\n",
    "    for usuario in usuarios:\n",
    "        print(usuario)\n",
    "        \n",
    " #Função de atualizar usuarios\n",
    " #Busca o ID, atualiza os dados e salva os dados atualizados no arquivo usuário.csv\n",
    "\n",
    "def atualizar_usuario(usuarios):\n",
    "    id = input(\"ID do usuário a ser atualizado: \")\n",
    "    for usuario in usuarios:\n",
    "        if usuario['id'] == id:\n",
    "            usuario['nome'] = input(\"Novo Nome: \")\n",
    "            usuario['senha'] = input(\"Nova Senha: \")\n",
    "            usuario['permissao'] = input(\"Nova Permissão: \")\n",
    "            salvar_dados('usuarios.csv', usuarios, [\"id\", \"nome\", \"senha\", \"permissao\"])\n",
    "            break\n",
    "            \n",
    " #Função de deletar usuários\n",
    " #Solicita o ID a ser deletado, cria uma nova lista excluido o respectivo usuário, salva a lista atualizada em \"usuarios.csv\"\n",
    "\n",
    "def deletar_usuario(usuarios):\n",
    "    id = input(\"ID do usuário a ser deletado: \")\n",
    "    usuarios = [usuario for usuario in usuarios if usuario['id'] != id]\n",
    "    salvar_dados('usuarios.csv', usuarios, [\"id\", \"nome\", \"senha\", \"permissao\"])\n",
    "    \n",
    " #CRUD para produtos\n",
    " #Essas funções seguem a mesma logica do CRUD em usuários.\n",
    " #Possui as funções de: criar, ler, atualizar e deletar produtos\n",
    "\n",
    "def criar_produto(produtos):\n",
    "    id = input(\"ID: \")\n",
    "    nome = input(\"Nome: \")\n",
    "    preco = input(\"Preço: \")\n",
    "    quantidade = input(\"Quantidade: \")\n",
    "    produtos.append({\"id\": id, \"nome\": nome, \"preco\": preco, \"quantidade\": quantidade})\n",
    "    salvar_dados('produtos.csv', produtos, [\"id\", \"nome\", \"preco\", \"quantidade\"])\n",
    "\n",
    "def ler_produtos(produtos):\n",
    "    for produto in produtos:\n",
    "        print(produto)\n",
    "\n",
    "def atualizar_produto(produtos):\n",
    "    id = input(\"ID do produto a ser atualizado: \")\n",
    "    for produto in produtos:\n",
    "        if produto['id'] == id:\n",
    "            produto['nome'] = input(\"Novo Nome: \")\n",
    "            produto['preco'] = input(\"Novo Preço: \")\n",
    "            produto['quantidade'] = input(\"Nova Quantidade: \")\n",
    "            salvar_dados('produtos.csv', produtos, [\"id\", \"nome\", \"preco\", \"quantidade\"])\n",
    "            break\n",
    "\n",
    "def deletar_produto(produtos):\n",
    "    id = input(\"ID do produto a ser deletado: \")\n",
    "    produtos = [produto for produto in produtos if produto['id'] != id]\n",
    "    salvar_dados('produtos.csv', produtos, [\"id\", \"nome\", \"preco\", \"quantidade\"])\n",
    "    \n",
    "#Função de \"Login\", conta com 3 partes:\n",
    "#Entrada de dados: nome e senha\n",
    "#Autenticação: verifica o no.me e senha de usuarios fornecidos. Retorna se foi autenticado.\n",
    "#Falha na autenticação: Se nenhum usuário for encontrado, imprime uma mensagem de falha e retorna.\n",
    "\n",
    "def login(usuarios):\n",
    "    nome = input(\"Nome: \")\n",
    "    senha = input(\"Senha: \")\n",
    "    for usuario in usuarios:\n",
    "        print(f\"Verificando usuário: {usuario}\")\n",
    "        if usuario['nome'] == nome and usuario['senha'] == senha:\n",
    "            print(f\"Usuário {nome} autenticado com sucesso!\")\n",
    "            return usuario\n",
    "    print(\"Falha na autenticação.\")\n",
    "    return None\n",
    "    \n",
    " #Função \"Menu\", conta com 4 partes:\n",
    " #Carrega os dados de usuários e produtos a partir dos arquivos CSV.\n",
    " #Solicita login do usuário. Se falhar ele termina a execução\n",
    " #Mostra o menu principal, permitindo escolher entre CRUD de usuários, CRUD de produtos e sair.\n",
    " #Dependendo da escolha e da permissão que o  usuário tem, executa as operações de CRUD para usuários ou produtos.\n",
    "\n",
    "def menu():\n",
    "    usuarios = carregar_dados('usuarios.csv')\n",
    "    produtos = carregar_dados('produtos.csv')\n",
    "    \n",
    "    usuario_logado = login(usuarios)\n",
    "    \n",
    "    if usuario_logado is None:\n",
    "        print(\"Login falhou!\")\n",
    "        return\n",
    "    \n",
    "    print(f\"Bem-vindo, {usuario_logado['nome']}!\")\n",
    "    \n",
    "    while True:\n",
    "        print(\"\\nMenu:\")\n",
    "        print(\"1. CRUD de Usuários\")\n",
    "        print(\"2. CRUD de Produtos\")\n",
    "        print(\"3. Sair\")\n",
    "        \n",
    "        escolha = input(\"Escolha uma opção: \")\n",
    "        \n",
    "        if escolha == '1' and usuario_logado['permissao'] == 'gerente':\n",
    "            print(\"\\nCRUD de Usuários:\")\n",
    "            print(\"1. Criar\")\n",
    "            print(\"2. Ler\")\n",
    "            print(\"3. Atualizar\")\n",
    "            print(\"4. Deletar\")\n",
    "            operacao = input(\"Escolha uma operação: \")\n",
    "            if operacao == '1':\n",
    "                criar_usuario(usuarios)\n",
    "            elif operacao == '2':\n",
    "                ler_usuarios(usuarios)\n",
    "            elif operacao == '3':\n",
    "                atualizar_usuario(usuarios)\n",
    "            elif operacao == '4':\n",
    "                deletar_usuario(usuarios)\n",
    "        elif escolha == '2':\n",
    "            print(\"\\nCRUD de Produtos:\")\n",
    "            print(\"1. Criar\")\n",
    "            print(\"2. Ler\")\n",
    "            print(\"3. Atualizar\")\n",
    "            print(\"4. Deletar\")\n",
    "            operacao = input(\"Escolha uma operação: \")\n",
    "            if operacao == '1':\n",
    "                criar_produto(produtos)\n",
    "            elif operacao == '2':\n",
    "                ler_produtos(produtos)\n",
    "            elif operacao == '3':\n",
    "                atualizar_produto(produtos)\n",
    "            elif operacao == '4':\n",
    "                deletar_produto(produtos)\n",
    "        elif escolha == '3':\n",
    "            break\n",
    "        else:\n",
    "            print(\"Opção inválida ou permissão insuficiente.\")\n",
    "\n",
    "if __name__ == \"__main__\":\n",
    "    menu()\n"
   ]
  },
  {
   "cell_type": "code",
   "execution_count": null,
   "id": "39554ae1-3bd4-48fe-86c1-013f1f49b673",
   "metadata": {},
   "outputs": [],
   "source": []
  }
 ],
 "metadata": {
  "kernelspec": {
   "display_name": "Python 3 (ipykernel)",
   "language": "python",
   "name": "python3"
  },
  "language_info": {
   "codemirror_mode": {
    "name": "ipython",
    "version": 3
   },
   "file_extension": ".py",
   "mimetype": "text/x-python",
   "name": "python",
   "nbconvert_exporter": "python",
   "pygments_lexer": "ipython3",
   "version": "3.12.3"
  }
 },
 "nbformat": 4,
 "nbformat_minor": 5
}
