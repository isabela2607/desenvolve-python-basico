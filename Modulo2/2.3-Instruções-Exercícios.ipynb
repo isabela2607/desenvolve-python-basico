{
 "cells": [
  {
   "cell_type": "markdown",
   "metadata": {
    "id": "1pCTdOHonv5f"
   },
   "source": [
    "# Módulo 2\n",
    "\n",
    "## 2.3 Instruções e Expressões\n",
    "\n",
    "### Q1\n",
    "\n",
    "Faça um programa que armazene o valor de 20 reais de salário por hora de um trabalhador, e o número de 40 horas trabalhadas na semana. Com essas informações, calcule e imprima:\n",
    "- Salário semanal bruto\n",
    "- Valor descontado por semana INSS (10% do bruto)\n",
    "- Valor descontado por semana pelo sindicato (5% do bruto)\n",
    "- Salário semanal líquido (Bruto - Descontos)"
   ]
  },
  {
   "cell_type": "code",
   "execution_count": 14,
   "metadata": {},
   "outputs": [
    {
     "name": "stdout",
     "output_type": "stream",
     "text": [
      "Valor demanal bruto: 800\n",
      "Valor descontado por semana INSS: 80.0\n",
      "Valor descontado por semana pelo sindicato: 40.0\n",
      "Salário semanal líquido: 680.0\n"
     ]
    }
   ],
   "source": [
    "#Escreva e execute seu código aqui\n",
    "%reset -f\n",
    "salario_por_hora = 20\n",
    "horas_por_semana = 40\n",
    "ssb= salario_por_hora * horas_por_semana\n",
    "inss = ssb * 0.10\n",
    "sindicato = ssb * 0.05\n",
    "salario_semanal_liquido = ssb - inss - sindicato\n",
    "print(\"Valor demanal bruto:\", ssb)\n",
    "print(\"Valor descontado por semana INSS:\", inss)\n",
    "print(\"Valor descontado por semana pelo sindicato:\", sindicato)\n",
    "print(\"Salário semanal líquido:\", salario_semanal_liquido)"
   ]
  },
  {
   "cell_type": "markdown",
   "metadata": {
    "id": "pIxKX9J2oGZ1"
   },
   "source": [
    "### Q2\n",
    "\n",
    "Altere o programa anterior para a partir dos valores de horas trabalhadas por semana e salário por hora, calcular **em somente duas instruções**:\n",
    "- Salário semanal bruto\n",
    "- Salário semanal líquido com todos os descontos. Para a segunda instrução, realize todos os cálculos aritméticos em uma expressão composta.\n"
   ]
  },
  {
   "cell_type": "code",
   "execution_count": 25,
   "metadata": {
    "id": "pAHw9Xf9oGoi"
   },
   "outputs": [
    {
     "name": "stdout",
     "output_type": "stream",
     "text": [
      "Salário semanal bruto: 800\n",
      "Salário semanal líquido com todos os descontos: 680.0\n"
     ]
    }
   ],
   "source": [
    "## Escreva e execute seu código aqui\n",
    "%reset -f\n",
    "horas_por_semana = 40\n",
    "salario_por_hora = 20\n",
    "salario_semanal_bruto, salario_semanal_liquido = salario_por_hora * horas_por_semana, salario_por_hora * horas_por_semana - salario_por_hora * horas_por_semana * 0.10 - salario_por_hora * horas_por_semana * 0.05\n",
    "print(\"Salário semanal bruto:\", salario_semanal_bruto)\n",
    "print(\"Salário semanal líquido com todos os descontos:\", salario_semanal_liquido)\n"
   ]
  },
  {
   "cell_type": "markdown",
   "metadata": {
    "id": "m8tlHRuWpBOB"
   },
   "source": [
    "### Q3\n",
    "\n",
    "Você está desenvolvendo um software de conversão de moeda e precisa calcular o valor equivalente em yuan chinês a partir de uma quantia em real. A taxa de câmbio é de 0.69 BRL (real) para 1 CNY (yuan). Escreva um programa que define em uma variável uma quantia em reais (BRL) e calcula o valor equivalente em yuan (CNY). Imprima o resultado."
   ]
  },
  {
   "cell_type": "code",
   "execution_count": 29,
   "metadata": {
    "id": "2bPw7uF6oeL9"
   },
   "outputs": [
    {
     "name": "stdout",
     "output_type": "stream",
     "text": [
      "O valor equivalente em yuan é: 6.8999999999999995 CNY\n"
     ]
    }
   ],
   "source": [
    "## Escreva e execute seu código aqui\n",
    "valor_em_reais = 10\n",
    "taxa_de_cambio = 0.69\n",
    "valor_em_yuan = valor_em_reais * taxa_de_cambio\n",
    "print(\"O valor equivalente em yuan é:\", valor_em_yuan, \"CNY\")\n"
   ]
  },
  {
   "cell_type": "markdown",
   "metadata": {
    "id": "-Na3ltDCp74A"
   },
   "source": [
    "### Q4\n",
    "\n",
    "Você é um treinador de corrida e deseja calcular a velocidade média que um atleta precisa manter para completar a Maratona Internacional de São Silvestre, que tem uma distância total de 42.195 km. A fórmula para calcular a velocidade média ($v\\_media$) é dada por $v\\_media = \\frac{distancia}{tempo}$ . Escreva um programa em Python para calcular a velocidade média necessária para completar a maratona em 3 horas.\n",
    "\n",
    "**Calcule e imprima o resultado em metros/segundo**, ou seja, converta a distância de quilômetros para metros ($metro = \\frac{km}{1000}$) e a velocidade de horas para segundos $(segundo = \\frac{hora}{3600})$."
   ]
  },
  {
   "cell_type": "code",
   "execution_count": 33,
   "metadata": {
    "id": "Bn6l8kcSrE4L"
   },
   "outputs": [
    {
     "name": "stdout",
     "output_type": "stream",
     "text": [
      "14.065\n",
      "42195.0 10800\n"
     ]
    }
   ],
   "source": [
    "## Escreva e execute seu código aqui\n",
    "distancia_total=42.195\n",
    "tempo=3\n",
    "v_media= distancia_total/tempo\n",
    "print(v_media)\n",
    "## Resultado em metros/segundos\n",
    "distancia_total_metros= distancia_total*1000\n",
    "tempo_segundos= tempo*3600\n",
    "print(distancia_total_metros,tempo_segundos)\n"
   ]
  },
  {
   "cell_type": "code",
   "execution_count": null,
   "metadata": {},
   "outputs": [],
   "source": []
  }
 ],
 "metadata": {
  "colab": {
   "provenance": []
  },
  "kernelspec": {
   "display_name": "Python 3 (ipykernel)",
   "language": "python",
   "name": "python3"
  },
  "language_info": {
   "codemirror_mode": {
    "name": "ipython",
    "version": 3
   },
   "file_extension": ".py",
   "mimetype": "text/x-python",
   "name": "python",
   "nbconvert_exporter": "python",
   "pygments_lexer": "ipython3",
   "version": "3.12.3"
  }
 },
 "nbformat": 4,
 "nbformat_minor": 4
}
